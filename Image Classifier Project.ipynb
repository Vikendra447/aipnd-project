{
 "cells": [
  {
   "cell_type": "markdown",
   "metadata": {},
   "source": [
    "# Developing an AI application\n",
    "\n",
    "Going forward, AI algorithms will be incorporated into more and more everyday applications. For example, you might want to include an image classifier in a smart phone app. To do this, you'd use a deep learning model trained on hundreds of thousands of images as part of the overall application architecture. A large part of software development in the future will be using these types of models as common parts of applications. \n",
    "\n",
    "In this project, you'll train an image classifier to recognize different species of flowers. You can imagine using something like this in a phone app that tells you the name of the flower your camera is looking at. In practice you'd train this classifier, then export it for use in your application. We'll be using [this dataset](http://www.robots.ox.ac.uk/~vgg/data/flowers/102/index.html) of 102 flower categories, you can see a few examples below. \n",
    "\n",
    "<img src='assets/Flowers.png' width=500px>\n",
    "\n",
    "The project is broken down into multiple steps:\n",
    "\n",
    "* Load and preprocess the image dataset\n",
    "* Train the image classifier on your dataset\n",
    "* Use the trained classifier to predict image content\n",
    "\n",
    "We'll lead you through each part which you'll implement in Python.\n",
    "\n",
    "When you've completed this project, you'll have an application that can be trained on any set of labeled images. Here your network will be learning about flowers and end up as a command line application. But, what you do with your new skills depends on your imagination and effort in building a dataset. For example, imagine an app where you take a picture of a car, it tells you what the make and model is, then looks up information about it. Go build your own dataset and make something new.\n",
    "\n",
    "First up is importing the packages you'll need. It's good practice to keep all the imports at the beginning of your code. As you work through this notebook and find you need to import a package, make sure to add the import up here."
   ]
  },
  {
   "cell_type": "code",
   "execution_count": 1,
   "metadata": {},
   "outputs": [],
   "source": [
    "# Imports here \n",
    "import torch\n",
    "import torch.nn as nn\n",
    "import torch.optim as optim\n",
    "from torch.optim import lr_scheduler\n",
    "import numpy as np\n",
    "import time\n",
    "import os\n",
    "import argparse\n",
    "from torchvision import datasets, models, transforms, utils\n",
    "from torch.autograd import Variable\n",
    "import torch.nn.functional as F\n",
    "import copy\n",
    "from PIL import Image\n",
    "import matplotlib.pyplot as plt\n",
    "import json\n",
    "from collections import OrderedDict"
   ]
  },
  {
   "cell_type": "markdown",
   "metadata": {},
   "source": [
    "## Load the data\n",
    "\n",
    "Here you'll use `torchvision` to load the data ([documentation](http://pytorch.org/docs/0.3.0/torchvision/index.html)). The data should be included alongside this notebook, otherwise you can [download it here](https://s3.amazonaws.com/content.udacity-data.com/nd089/flower_data.tar.gz). The dataset is split into three parts, training, validation, and testing. For the training, you'll want to apply transformations such as random scaling, cropping, and flipping. This will help the network generalize leading to better performance. You'll also need to make sure the input data is resized to 224x224 pixels as required by the pre-trained networks.\n",
    "\n",
    "The validation and testing sets are used to measure the model's performance on data it hasn't seen yet. For this you don't want any scaling or rotation transformations, but you'll need to resize then crop the images to the appropriate size.\n",
    "\n",
    "The pre-trained networks you'll use were trained on the ImageNet dataset where each color channel was normalized separately. For all three sets you'll need to normalize the means and standard deviations of the images to what the network expects. For the means, it's `[0.485, 0.456, 0.406]` and for the standard deviations `[0.229, 0.224, 0.225]`, calculated from the ImageNet images.  These values will shift each color channel to be centered at 0 and range from -1 to 1.\n",
    " "
   ]
  },
  {
   "cell_type": "code",
   "execution_count": 2,
   "metadata": {},
   "outputs": [],
   "source": [
    "data_dir = 'flowers'\n",
    "train_dir = data_dir + '/train'\n",
    "valid_dir = data_dir + '/valid'\n",
    "test_dir = data_dir + '/test'\n",
    "cuda=torch.cuda.is_available()"
   ]
  },
  {
   "cell_type": "code",
   "execution_count": 3,
   "metadata": {},
   "outputs": [],
   "source": [
    "# TODO: Define your transforms for the training, validation, and testing sets\n",
    "data_transforms = transforms.Compose([transforms.RandomRotation(30),\n",
    "                                       transforms.RandomResizedCrop(224),\n",
    "                                       transforms.RandomHorizontalFlip(),\n",
    "                                       transforms.ToTensor(),\n",
    "                                       transforms.Normalize([0.485, 0.456, 0.406], \n",
    "                                                            [0.229, 0.224, 0.225])])\n",
    "\n",
    "valid_transforms = transforms.Compose([transforms.Resize(256),\n",
    "                                      transforms.CenterCrop(224),\n",
    "                                      transforms.ToTensor(),\n",
    "                                      transforms.Normalize([0.485, 0.456, 0.406], \n",
    "                                                           [0.229, 0.224, 0.225])])\n",
    "\n",
    "test_transforms = transforms.Compose([transforms.Resize(256),\n",
    "                                      transforms.CenterCrop(224),\n",
    "                                      transforms.ToTensor(),\n",
    "                                      transforms.Normalize([0.485, 0.456, 0.406], \n",
    "                                                           [0.229, 0.224, 0.225])])\n",
    "\n",
    "# TODO: Load the datasets with ImageFolder\n",
    "\n",
    "image_datasets = datasets.ImageFolder(data_dir + '/train', transform=data_transforms)\n",
    "valid_datasets = datasets.ImageFolder(data_dir + '/valid', transform=valid_transforms)\n",
    "test_datasets = datasets.ImageFolder(data_dir + '/test', transform=test_transforms)\n",
    "\n",
    "# TODO: Using the image datasets and the trainforms, define the dataloaders\n",
    "\n",
    "dataloaders = torch.utils.data.DataLoader(image_datasets, batch_size=64, shuffle=True)\n",
    "validloader = torch.utils.data.DataLoader(valid_datasets, batch_size=32)\n",
    "testloader = torch.utils.data.DataLoader(test_datasets, batch_size=32)\n"
   ]
  },
  {
   "cell_type": "markdown",
   "metadata": {},
   "source": [
    "### Label mapping\n",
    "\n",
    "You'll also need to load in a mapping from category label to category name. You can find this in the file `cat_to_name.json`. It's a JSON object which you can read in with the [`json` module](https://docs.python.org/2/library/json.html). This will give you a dictionary mapping the integer encoded categories to the actual names of the flowers."
   ]
  },
  {
   "cell_type": "code",
   "execution_count": 4,
   "metadata": {
    "scrolled": true
   },
   "outputs": [],
   "source": [
    "import json\n",
    "\n",
    "with open('cat_to_name.json', 'r') as f:\n",
    "    cat_to_name = json.load(f)"
   ]
  },
  {
   "cell_type": "markdown",
   "metadata": {},
   "source": [
    "# Building and training the classifier\n",
    "\n",
    "Now that the data is ready, it's time to build and train the classifier. As usual, you should use one of the pretrained models from `torchvision.models` to get the image features. Build and train a new feed-forward classifier using those features.\n",
    "\n",
    "We're going to leave this part up to you. If you want to talk through it with someone, chat with your fellow students! You can also ask questions on the forums or join the instructors in office hours.\n",
    "\n",
    "Refer to [the rubric](https://review.udacity.com/#!/rubrics/1663/view) for guidance on successfully completing this section. Things you'll need to do:\n",
    "\n",
    "* Load a [pre-trained network](http://pytorch.org/docs/master/torchvision/models.html) (If you need a starting point, the VGG networks work great and are straightforward to use)\n",
    "* Define a new, untrained feed-forward network as a classifier, using ReLU activations and dropout\n",
    "* Train the classifier layers using backpropagation using the pre-trained network to get the features\n",
    "* Track the loss and accuracy on the validation set to determine the best hyperparameters\n",
    "\n",
    "We've left a cell open for you below, but use as many as you need. Our advice is to break the problem up into smaller parts you can run separately. Check that each part is doing what you expect, then move on to the next. You'll likely find that as you work through each part, you'll need to go back and modify your previous code. This is totally normal!\n",
    "\n",
    "When training make sure you're updating only the weights of the feed-forward network. You should be able to get the validation accuracy above 70% if you build everything right. Make sure to try different hyperparameters (learning rate, units in the classifier, epochs, etc) to find the best model. Save those hyperparameters to use as default values in the next part of the project."
   ]
  },
  {
   "cell_type": "code",
   "execution_count": 5,
   "metadata": {
    "scrolled": true
   },
   "outputs": [
    {
     "name": "stderr",
     "output_type": "stream",
     "text": [
      "Downloading: \"https://download.pytorch.org/models/vgg16-397923af.pth\" to /root/.torch/models/vgg16-397923af.pth\n",
      "100%|██████████| 553433881/553433881 [00:09<00:00, 57039291.93it/s]\n"
     ]
    },
    {
     "name": "stdout",
     "output_type": "stream",
     "text": [
      "Epoch: 1/5..  Validation Loss: 0.171..  Accuracy: 0.269\n",
      "Epoch: 1/5..  Validation Loss: 0.113..  Accuracy: 0.501\n",
      "Epoch: 1/5..  Validation Loss: 0.083..  Accuracy: 0.554\n",
      "Epoch: 1/5..  Validation Loss: 0.043..  Accuracy: 0.670\n",
      "Epoch: 1/5..  Validation Loss: 0.028..  Accuracy: 0.720\n",
      "Epoch: 2/5..  Validation Loss: 0.048..  Accuracy: 0.722\n",
      "Epoch: 2/5..  Validation Loss: 0.024..  Accuracy: 0.765\n",
      "Epoch: 2/5..  Validation Loss: 0.022..  Accuracy: 0.803\n",
      "Epoch: 2/5..  Validation Loss: 0.036..  Accuracy: 0.813\n",
      "Epoch: 2/5..  Validation Loss: 0.030..  Accuracy: 0.813\n",
      "Epoch: 3/5..  Validation Loss: 0.027..  Accuracy: 0.813\n",
      "Epoch: 3/5..  Validation Loss: 0.029..  Accuracy: 0.821\n",
      "Epoch: 3/5..  Validation Loss: 0.022..  Accuracy: 0.813\n",
      "Epoch: 3/5..  Validation Loss: 0.015..  Accuracy: 0.820\n",
      "Epoch: 3/5..  Validation Loss: 0.020..  Accuracy: 0.832\n",
      "Epoch: 4/5..  Validation Loss: 0.006..  Accuracy: 0.836\n",
      "Epoch: 4/5..  Validation Loss: 0.007..  Accuracy: 0.825\n",
      "Epoch: 4/5..  Validation Loss: 0.018..  Accuracy: 0.832\n",
      "Epoch: 4/5..  Validation Loss: 0.026..  Accuracy: 0.837\n",
      "Epoch: 4/5..  Validation Loss: 0.025..  Accuracy: 0.854\n",
      "Epoch: 5/5..  Validation Loss: 0.026..  Accuracy: 0.834\n",
      "Epoch: 5/5..  Validation Loss: 0.009..  Accuracy: 0.865\n",
      "Epoch: 5/5..  Validation Loss: 0.009..  Accuracy: 0.843\n",
      "Epoch: 5/5..  Validation Loss: 0.021..  Accuracy: 0.854\n",
      "Epoch: 5/5..  Validation Loss: 0.012..  Accuracy: 0.860\n",
      "None\n"
     ]
    }
   ],
   "source": [
    "# TODO: Build and train your network  \n",
    "model=models.vgg16(pretrained=True)\n",
    "for param in model.parameters():\n",
    "    param.requires_grad = False\n",
    "    \n",
    "initial_input= model.classifier[0].in_features\n",
    "classifier= nn.Sequential(OrderedDict([\n",
    "                              ('fc1', nn.Linear(initial_input,512)),\n",
    "                              ('relu', nn.ReLU()),\n",
    "                              ('drpot', nn.Dropout(p=0.5)),\n",
    "                              ('hidden', nn.Linear(512, 100)), \n",
    "                              ('fc2', nn.Linear(100,102)),\n",
    "                              ('output', nn.LogSoftmax(dim=1)),\n",
    "                              ]))\n",
    "model.classifier = classifier\n",
    "\n",
    "epochs=10\n",
    "if torch.cuda.is_available():\n",
    "    model.cuda()\n",
    "criterion=nn.CrossEntropyLoss()\n",
    "optimizer=optim.Adam(model.classifier.parameters(),lr=0.001)\n",
    "\n",
    "def train(model, dataloader, validloader, criterion, optimizer, epochs, print_every,device='cpu'): \n",
    "    i = 0\n",
    "    if device and torch.cuda.is_available():\n",
    "        model.cuda()\n",
    "    else:\n",
    "        print('Go without cuda')\n",
    "    for e in range(epochs):\n",
    "        model.train()\n",
    "        for images, labels in iter(dataloader):\n",
    "            i += 1\n",
    "            \n",
    "            if device and torch.cuda.is_available():\n",
    "                images = images.cuda()\n",
    "                labels = labels.cuda()\n",
    "            else:\n",
    "                images =Variable(images)\n",
    "                labels =Variable(labels)\n",
    "            optimizer.zero_grad()\n",
    "            result = model.forward(images)\n",
    "            loss_value = criterion(result, labels)\n",
    "            loss_value.backward()\n",
    "            optimizer.step()\n",
    "            if i % print_every == 0:\n",
    "                model.eval()\n",
    "                accuracy=0\n",
    "                valid_loss=0\n",
    "                for images, labels in iter(validloader):\n",
    "            \n",
    "                    if device and torch.cuda.is_available():\n",
    "                        images =images.cuda()\n",
    "                        labels = labels.cuda()\n",
    "                    else:\n",
    "                        images = Variable(images)\n",
    "                        labels =  Variable(labels)\n",
    "                    with torch.no_grad():\n",
    "                        result = model.forward(images)\n",
    "                        valid_loss=criterion(result, labels).data.item()\n",
    "                        prob = torch.exp(result).data\n",
    "                        equality = (labels.data == prob.max(1)[1])\n",
    "                        accuracy += equality.type_as(torch.FloatTensor()).mean()\n",
    "\n",
    "                print(\"Epoch: {}/{}.. \".format(e+1, epochs),\n",
    "                      \"Validation Loss: {:.3f}.. \".format(valid_loss/len(validloader)),\n",
    "                      \"Accuracy: {:.3f}\".format(accuracy/len(validloader)))\n",
    "                running_loss = 0\n",
    "                model.train()\n",
    "model=train(model, dataloaders, validloader, criterion, optimizer, 5, 20,'gpu')\n",
    "print(model)\n"
   ]
  },
  {
   "cell_type": "markdown",
   "metadata": {},
   "source": [
    "## Testing your network\n",
    "\n",
    "It's good practice to test your trained network on test data, images the network has never seen either in training or validation. This will give you a good estimate for the model's performance on completely new images. Run the test images through the network and measure the accuracy, the same way you did validation. You should be able to reach around 70% accuracy on the test set if the model has been trained well."
   ]
  },
  {
   "cell_type": "code",
   "execution_count": null,
   "metadata": {},
   "outputs": [],
   "source": [
    "# TODO: Do validation on the test set\n",
    "def validation(device='cpu'):\n",
    "    Cuda=torch.cuda.is_available()\n",
    "    if device and Cuda:\n",
    "        model.cuda()\n",
    "    accuracy = 0.0\n",
    "    test_loss = 0.0\n",
    "    for images, labels in iter(testloader):\n",
    "        if device and Cuda:\n",
    "            images = images.cuda()\n",
    "            labels = labels.cuda()\n",
    "        else:\n",
    "            images = Variable(images)\n",
    "            labels = Variable(labels)\n",
    "        with torch.no_grad():\n",
    "            result = model.forward(images)\n",
    "            test_loss += criterion(result, labels).data.item()\n",
    "            ps = torch.exp(result).data\n",
    "            equality = (labels.data == ps.max(1)[1])\n",
    "            accuracy += equality.type_as(torch.FloatTensor()).mean()\n",
    "    print(\"Test Loss: {:.3f}.. \".format(test_loss/len(testloader)),\n",
    "          \"Test Accuracy: {:.3f}\".format(accuracy/len(testloader)))\n",
    "    \n",
    "validation('gpu')\n"
   ]
  },
  {
   "cell_type": "markdown",
   "metadata": {},
   "source": [
    "## Save the checkpoint\n",
    "\n",
    "Now that your network is trained, save the model so you can load it later for making predictions. You probably want to save other things such as the mapping of classes to indices which you get from one of the image datasets: `image_datasets['train'].class_to_idx`. You can attach this to the model as an attribute which makes inference easier later on.\n",
    "\n",
    "```model.class_to_idx = image_datasets['train'].class_to_idx```\n",
    "\n",
    "Remember that you'll want to completely rebuild the model later so you can use it for inference. Make sure to include any information you need in the checkpoint. If you want to load the model and keep training, you'll want to save the number of epochs as well as the optimizer state, `optimizer.state_dict`. You'll likely want to use this trained model in the next part of the project, so best to save it now."
   ]
  },
  {
   "cell_type": "code",
   "execution_count": null,
   "metadata": {},
   "outputs": [],
   "source": [
    "# TODO: Save the checkpoint \n",
    "batch_size=64\n",
    "model.class_to_idx = dataloaders.dataset.class_to_idx\n",
    "model.epochs = 5\n",
    "checkpoint = {'input_size': [3, 224, 224],\n",
    "              'batch_size': dataloaders.batch_size,\n",
    "              'output_size': 102,\n",
    "              'state_dict': model.state_dict(),\n",
    "              'optimizer_dict':optimizer.state_dict(),\n",
    "              'class_to_idx': model.class_to_idx,\n",
    "              'epoch': model.epochs}\n",
    "torch.save(checkpoint, 'my_checkpoint.pth')"
   ]
  },
  {
   "cell_type": "markdown",
   "metadata": {},
   "source": [
    "## Loading the checkpoint\n",
    "\n",
    "At this point it's good to write a function that can load a checkpoint and rebuild the model. That way you can come back to this project and keep working on it without having to retrain the network."
   ]
  },
  {
   "cell_type": "code",
   "execution_count": 12,
   "metadata": {},
   "outputs": [],
   "source": [
    "# TODO: load the checkpoint\n",
    "def load_checkpoint(filepath):\n",
    "    checkpoint = torch.load(filepath)\n",
    "    model = models.vgg16()\n",
    "    initial_input= model.classifier[0].in_features\n",
    "    classifier = nn.Sequential(OrderedDict([\n",
    "                              ('fc1', nn.Linear(initial_input, 512)),\n",
    "                              ('relu', nn.ReLU()),\n",
    "                              ('drpot', nn.Dropout(p=0.5)),\n",
    "                              ('hidden', nn.Linear(512, 100)),                       \n",
    "                              ('fc2', nn.Linear(100, 102)),\n",
    "                              ('output', nn.LogSoftmax(dim=1)),\n",
    "                              ]))\n",
    "    \n",
    "    model.classifier = classifier\n",
    "    model.load_state_dict(checkpoint['state_dict'])\n",
    "    loaded_model, class_to_idx = load_checkpoint('my_checkpoint.pth')\n",
    "    idx_to_class = { v : k for k,v in class_to_idx.items()}\n",
    "    return model, checkpoint['class_to_idx']"
   ]
  },
  {
   "cell_type": "markdown",
   "metadata": {},
   "source": [
    "# Inference for classification\n",
    "\n",
    "Now you'll write a function to use a trained network for inference. That is, you'll pass an image into the network and predict the class of the flower in the image. Write a function called `predict` that takes an image and a model, then returns the top $K$ most likely classes along with the probabilities. It should look like \n",
    "\n",
    "```python\n",
    "probs, classes = predict(image_path, model)\n",
    "print(probs)\n",
    "print(classes)\n",
    "> [ 0.01558163  0.01541934  0.01452626  0.01443549  0.01407339]\n",
    "> ['70', '3', '45', '62', '55']\n",
    "```\n",
    "\n",
    "First you'll need to handle processing the input image such that it can be used in your network. \n",
    "\n",
    "## Image Preprocessing\n",
    "\n",
    "You'll want to use `PIL` to load the image ([documentation](https://pillow.readthedocs.io/en/latest/reference/Image.html)). It's best to write a function that preprocesses the image so it can be used as input for the model. This function should process the images in the same manner used for training. \n",
    "\n",
    "First, resize the images where the shortest side is 256 pixels, keeping the aspect ratio. This can be done with the [`thumbnail`](http://pillow.readthedocs.io/en/3.1.x/reference/Image.html#PIL.Image.Image.thumbnail) or [`resize`](http://pillow.readthedocs.io/en/3.1.x/reference/Image.html#PIL.Image.Image.thumbnail) methods. Then you'll need to crop out the center 224x224 portion of the image.\n",
    "\n",
    "Color channels of images are typically encoded as integers 0-255, but the model expected floats 0-1. You'll need to convert the values. It's easiest with a Numpy array, which you can get from a PIL image like so `np_image = np.array(pil_image)`.\n",
    "\n",
    "As before, the network expects the images to be normalized in a specific way. For the means, it's `[0.485, 0.456, 0.406]` and for the standard deviations `[0.229, 0.224, 0.225]`. You'll want to subtract the means from each color channel, then divide by the standard deviation. \n",
    "\n",
    "And finally, PyTorch expects the color channel to be the first dimension but it's the third dimension in the PIL image and Numpy array. You can reorder dimensions using [`ndarray.transpose`](https://docs.scipy.org/doc/numpy-1.13.0/reference/generated/numpy.ndarray.transpose.html). The color channel needs to be first and retain the order of the other two dimensions."
   ]
  },
  {
   "cell_type": "code",
   "execution_count": 13,
   "metadata": {},
   "outputs": [],
   "source": [
    "from PIL import Image\n",
    "def process_image(image):\n",
    "    ''' Scales, crops, and normalizes a PIL image for a PyTorch model,\n",
    "        returns an Numpy array\n",
    "    '''\n",
    "    \n",
    "    # TODO: Process a PIL image for use in a PyTorch model\n",
    "    Image_Size=256,256\n",
    "    image.thumbnail(Image_Size, Image.ANTIALIAS)\n",
    "    image=image.crop((128 - 112,128-112,128+112,128 + 112))\n",
    "    My_Image = np.array(image)\n",
    "    My_Image = My_Image/255\n",
    "        \n",
    "    X1=My_Image[:,:,0]\n",
    "    X2=My_Image[:,:,1]\n",
    "    X3=My_Image[:,:,2]\n",
    "    \n",
    "    My_Image[:,:,0]=(X1-0.485)/(0.229) \n",
    "    My_Image[:,:,1]=(X2-0.456)/(0.224)\n",
    "    My_Image[:,:,2]=(X3-0.406)/(0.225)\n",
    "    \n",
    "    My_Image = np.transpose(My_Image, (2,0,1))\n",
    "    return My_Image"
   ]
  },
  {
   "cell_type": "markdown",
   "metadata": {},
   "source": [
    "To check your work, the function below converts a PyTorch tensor and displays it in the notebook. If your `process_image` function works, running the output through this function should return the original image (except for the cropped out portions)."
   ]
  },
  {
   "cell_type": "code",
   "execution_count": 14,
   "metadata": {},
   "outputs": [],
   "source": [
    "def imshow(image, ax=None, title=None):\n",
    "    \"\"\"Imshow for Tensor.\"\"\"\n",
    "    if ax is None:\n",
    "        fig, ax = plt.subplots()\n",
    "    \n",
    "    # PyTorch tensors assume the color channel is the first dimension\n",
    "    # but matplotlib assumes is the third dimension\n",
    "    image = image.transpose((1, 2, 0))\n",
    "    \n",
    "    # Undo preprocessing\n",
    "    mean = np.array([0.485, 0.456, 0.406])\n",
    "    std = np.array([0.229, 0.224, 0.225])\n",
    "    image = std * image + mean\n",
    "    \n",
    "    # Image needs to be clipped between 0 and 1 or it looks like noise when displayed\n",
    "    image = np.clip(image, 0, 1)\n",
    "    \n",
    "    ax.imshow(image)\n",
    "    \n",
    "    return ax"
   ]
  },
  {
   "cell_type": "markdown",
   "metadata": {},
   "source": [
    "## Class Prediction\n",
    "\n",
    "Once you can get images in the correct format, it's time to write a function for making predictions with your model. A common practice is to predict the top 5 or so (usually called top-$K$) most probable classes. You'll want to calculate the class probabilities then find the $K$ largest values.\n",
    "\n",
    "To get the top $K$ largest values in a tensor use [`x.topk(k)`](http://pytorch.org/docs/master/torch.html#torch.topk). This method returns both the highest `k` probabilities and the indices of those probabilities corresponding to the classes. You need to convert from these indices to the actual class labels using `class_to_idx` which hopefully you added to the model or from an `ImageFolder` you used to load the data ([see here](#Save-the-checkpoint)). Make sure to invert the dictionary so you get a mapping from index to class as well.\n",
    "\n",
    "Again, this method should take a path to an image and a model checkpoint, then return the probabilities and classes.\n",
    "\n",
    "```python\n",
    "probs, classes = predict(image_path, model)\n",
    "print(probs)\n",
    "print(classes)\n",
    "> [ 0.01558163  0.01541934  0.01452626  0.01443549  0.01407339]\n",
    "> ['70', '3', '45', '62', '55']\n",
    "```"
   ]
  },
  {
   "cell_type": "code",
   "execution_count": 15,
   "metadata": {},
   "outputs": [],
   "source": [
    "def predict(image_path, model, topk=5):\n",
    "    ''' Predict the class (or classes) of an image using a trained deep learning model.\n",
    "    '''\n",
    "    # TODO: Implement the code to predict the class from an image file\n",
    "    My_Image = torch.FloatTensor([process_image(Image.open(image_path))])\n",
    "    if torch.cuda.is_available():\n",
    "        model = model.cuda()\n",
    "    model.eval()\n",
    "    if torch.cuda.is_available():\n",
    "        Result = model.forward(Variable(My_Image.cuda()))\n",
    "    else:\n",
    "        Result = model.forward(Variable(My_Image))\n",
    "    PS = torch.exp(Result).data.numpy()[0]\n",
    "    Top_Index = np.argsort(ps)[-topk:][::-1] \n",
    "    Top_Class = [idx_to_class[x] for x in Top_Index]\n",
    "    Probability = PS[Top_Index]\n",
    "\n",
    "    return Probability, Top_Class"
   ]
  },
  {
   "cell_type": "markdown",
   "metadata": {},
   "source": [
    "## Sanity Checking\n",
    "\n",
    "Now that you can use a trained model for predictions, check to make sure it makes sense. Even if the testing accuracy is high, it's always good to check that there aren't obvious bugs. Use `matplotlib` to plot the probabilities for the top 5 classes as a bar graph, along with the input image. It should look like this:\n",
    "\n",
    "<img src='assets/inference_example.png' width=300px>\n",
    "\n",
    "You can convert from the class integer encoding to actual flower names with the `cat_to_name.json` file (should have been loaded earlier in the notebook). To show a PyTorch tensor as an image, use the `imshow` function defined above."
   ]
  },
  {
   "cell_type": "code",
   "execution_count": 18,
   "metadata": {},
   "outputs": [],
   "source": [
    "# TODO: Display an image along with the top 5 classes\n",
    "def print_predict(classes, probs):\n",
    "    predictions = list(zip(classes, probs))\n",
    "    for i in range(len(predictions)):\n",
    "        print('{} : {:.3%}'.format(predictions[i][0], predictions[i][1]))\n",
    "    PROB,CLASS = predict(image_path, model, topk=5)\n",
    "    view_classify(img, PROB, CLS, cat_to_name)"
   ]
  },
  {
   "cell_type": "code",
   "execution_count": null,
   "metadata": {},
   "outputs": [],
   "source": []
  },
  {
   "cell_type": "code",
   "execution_count": null,
   "metadata": {},
   "outputs": [],
   "source": []
  }
 ],
 "metadata": {
  "kernelspec": {
   "display_name": "Python 3",
   "language": "python",
   "name": "python3"
  },
  "language_info": {
   "codemirror_mode": {
    "name": "ipython",
    "version": 3
   },
   "file_extension": ".py",
   "mimetype": "text/x-python",
   "name": "python",
   "nbconvert_exporter": "python",
   "pygments_lexer": "ipython3",
   "version": "3.6.3"
  }
 },
 "nbformat": 4,
 "nbformat_minor": 2
}
